{
  "nbformat": 4,
  "nbformat_minor": 0,
  "metadata": {
    "colab": {
      "name": "Untitled0.ipynb",
      "provenance": [],
      "authorship_tag": "ABX9TyOAFvDG+O8tLOgHmI+y45ZF",
      "include_colab_link": true
    },
    "kernelspec": {
      "name": "python3",
      "display_name": "Python 3"
    },
    "language_info": {
      "name": "python"
    }
  },
  "cells": [
    {
      "cell_type": "markdown",
      "metadata": {
        "id": "view-in-github",
        "colab_type": "text"
      },
      "source": [
        "<a href=\"https://colab.research.google.com/github/NGONGOCHA/minango/blob/main/Untitled0.ipynb\" target=\"_parent\"><img src=\"https://colab.research.google.com/assets/colab-badge.svg\" alt=\"Open In Colab\"/></a>"
      ]
    },
    {
      "cell_type": "code",
      "metadata": {
        "colab": {
          "base_uri": "https://localhost:8080/"
        },
        "id": "Nv5NkGk-JCsL",
        "outputId": "fa924631-37fc-485e-93ff-cdd7f09b1bf0"
      },
      "source": [
        "x = []\n",
        "print(x)\n",
        "x = x + [18]\n",
        "x = x + [\"Huế\"]\n",
        "print(x)\n",
        "y = [12, 45, -1, -0.56, \"abc\"]\n",
        "x = x + y\n",
        "print(x)\n",
        "\n",
        "z = (x[6], x[0])\n",
        "print(z)\n",
        "print(x[:5])\n",
        "print(x[2:])\n"
      ],
      "execution_count": 28,
      "outputs": [
        {
          "output_type": "stream",
          "name": "stdout",
          "text": [
            "[]\n",
            "[18, 'Huế']\n",
            "[18, 'Huế', 12, 45, -1, -0.56, 'abc']\n",
            "('abc', 18)\n",
            "[18, 'Huế', 12, 45, -1]\n",
            "[12, 45, -1, -0.56, 'abc']\n"
          ]
        }
      ]
    }
  ]
}