{
  "nbformat": 4,
  "nbformat_minor": 0,
  "metadata": {
    "colab": {
      "name": "thao tác với tập tin.ipynb",
      "provenance": [],
      "authorship_tag": "ABX9TyOIS3lgixH3xYTjOGdVcFAE",
      "include_colab_link": true
    },
    "kernelspec": {
      "name": "python3",
      "display_name": "Python 3"
    },
    "language_info": {
      "name": "python"
    }
  },
  "cells": [
    {
      "cell_type": "markdown",
      "metadata": {
        "id": "view-in-github",
        "colab_type": "text"
      },
      "source": [
        "<a href=\"https://colab.research.google.com/github/NGONGOCHA/minango/blob/main/abc/thao_t%C3%A1c_v%E1%BB%9Bi_t%E1%BA%ADp_tin.ipynb\" target=\"_parent\"><img src=\"https://colab.research.google.com/assets/colab-badge.svg\" alt=\"Open In Colab\"/></a>"
      ]
    },
    {
      "cell_type": "markdown",
      "metadata": {
        "id": "6j49jDIPZnim"
      },
      "source": [
        "Bài 1: Viết chương trình thực hiện các yêu cầu sau:\n",
        "- Nhập một chuỗi kí tự từ bàn phím\n",
        "- Nhập tên tập tin từ bàn phím\n",
        "- Lưu chuỗi ký tự ở trên vào tập tin."
      ]
    },
    {
      "cell_type": "code",
      "metadata": {
        "colab": {
          "base_uri": "https://localhost:8080/"
        },
        "id": "tDSJdgS9XtfS",
        "outputId": "a80c2557-e659-4463-fe1e-fb8d5f6d4458"
      },
      "source": [
        "chuoi = input(\"Chuỗi: \")\n",
        "filename = input(\"Tên file: \")\n",
        "f = open(filename, 'w', encoding = 'utf-8')# w: Mở file để ghi\n",
        "f.write(chuoi)\n",
        "f.close()"
      ],
      "execution_count": null,
      "outputs": [
        {
          "name": "stdout",
          "output_type": "stream",
          "text": [
            "Chuỗi: đislwaif\n",
            "Tên file: ui\n"
          ]
        }
      ]
    },
    {
      "cell_type": "markdown",
      "metadata": {
        "id": "3K1dMp0HZmvB"
      },
      "source": [
        "Bài 2: Viết chương trình thực hiện các yêu cầu sau:\n",
        "- Nhập tên tập tin từ bàn phím\n",
        "- Đọc nội dung tập tin và in ra màn hình"
      ]
    },
    {
      "cell_type": "code",
      "metadata": {
        "id": "TN_oOrCecs-g",
        "colab": {
          "base_uri": "https://localhost:8080/"
        },
        "outputId": "dfbeb0b4-b9f7-46cb-dee4-003d7320c49f"
      },
      "source": [
        "filename = input(\"Tên file: \")\n",
        "f = open(filename, 'r', encoding = 'utf-8')\n",
        "doc = f.read()\n",
        "print(doc)\n",
        "f.close()"
      ],
      "execution_count": null,
      "outputs": [
        {
          "output_type": "stream",
          "name": "stdout",
          "text": [
            "Tên file: ui\n",
            "đislwaif\n"
          ]
        }
      ]
    },
    {
      "cell_type": "markdown",
      "metadata": {
        "id": "V5fH1tKHcvk5"
      },
      "source": [
        "Bài 3: Viết chương trình thực hiện các yêu cầu sau:\n",
        "- Nhập tên tập tin từ bàn phím\n",
        "- Nhập một chuỗi kí tự vào từ bàn phím\n",
        "- Ghi chuỗi kí tự này vào cuối tập tin ở trên"
      ]
    },
    {
      "cell_type": "code",
      "metadata": {
        "id": "3N9vrHuycx8q",
        "colab": {
          "base_uri": "https://localhost:8080/"
        },
        "outputId": "964297f3-1484-4fe0-cce1-8607c3181c41"
      },
      "source": [
        "filename = input(\"Tên file: \")\n",
        "chuoi = input(\"Chuỗi: \")\n",
        "f = open(filename, 'a')\n",
        "f.write(chuoi)\n",
        "f.close()"
      ],
      "execution_count": null,
      "outputs": [
        {
          "name": "stdout",
          "output_type": "stream",
          "text": [
            "Tên file: ui\n",
            "Chuỗi: hjsdheo\n"
          ]
        }
      ]
    },
    {
      "cell_type": "markdown",
      "metadata": {
        "id": "itlX9be08Di5"
      },
      "source": [
        "Bài 4: Viết chương trình thực hiện các yêu cầu sau:\n",
        "- Đọc tập tin ở bài 3 và ghi kết quả ra màn hình"
      ]
    },
    {
      "cell_type": "code",
      "metadata": {
        "colab": {
          "base_uri": "https://localhost:8080/"
        },
        "id": "gi2AfLdm8I1G",
        "outputId": "88a26edb-4009-42ac-b25e-c0cbd88cf131"
      },
      "source": [
        "f = open(filename, 'r')\n",
        "doc = f.read()\n",
        "print(doc)\n",
        "f.close()"
      ],
      "execution_count": null,
      "outputs": [
        {
          "output_type": "stream",
          "name": "stdout",
          "text": [
            "đislwaifhjsdheo\n"
          ]
        }
      ]
    },
    {
      "cell_type": "markdown",
      "metadata": {
        "id": "-2waKEKJ8MzI"
      },
      "source": [
        "Bài 5: Viết chương trình thực các yêu cầu sau:\n",
        "- Sinh ngẫu nhiên 1 danh sách gồm 1000 số nguyên trong khoảng từ [-1000, 1000]\n",
        "- Nhập tên tập tin từ bàn phím\n",
        "- Ghi danh sách trên vào tập tin theo quy tắc:\n",
        "\n",
        "o 10 số trên một hàng\n",
        "\n",
        "o Các số phân tách nhau bởi dấu phẩy (,)\n",
        "\n",
        "- Đọc nội dung tập tin ở trên và in ra màn hình theo quy tắc:\n",
        "\n",
        "o 10 số trên một hàng\n",
        "\n",
        "o Các số phan tách nhau bởi dấu tab."
      ]
    },
    {
      "cell_type": "code",
      "metadata": {
        "colab": {
          "base_uri": "https://localhost:8080/"
        },
        "id": "RwOAtKnQ8UNo",
        "outputId": "a93a78a1-bf47-4081-92f2-66c788e693be"
      },
      "source": [
        "import random\n",
        "ds5 = []\n",
        "check = 0\n",
        "for i in range(1000):\n",
        "    ds5.append(random.randint(-1000, 1000))\n",
        "filename = input(\"Tên file: \")\n",
        "print(len(ds5))\n",
        "for i in ds5:\n",
        "    if check < 9:\n",
        "        f = open(filename, 'a') # a: Mở file chế độ ghi tiếp.\n",
        "        chuoikytu = str(i)+','\n",
        "        f.write(chuoikytu)\n",
        "        f.close()\n",
        "        check +=1\n",
        "    else:\n",
        "        f = open(filename, 'a')\n",
        "        f.write(str(i)+\"\\n\")\n",
        "        f.close()\n",
        "        check = 0\n",
        "f = open(filename, 'r') # r: Chế độ chỉ được phép đọc.\n",
        "a = f.readlines()\n",
        "for i in a:\n",
        "    print(i.replace(\",\", \"    \"))\n",
        "f.close()"
      ],
      "execution_count": null,
      "outputs": [
        {
          "output_type": "stream",
          "name": "stdout",
          "text": [
            "Tên file: ry\n",
            "1000\n",
            "798    344    -607    -662    57    154    479    241    -579    38\n",
            "\n",
            "-159    -587    -147    286    593    663    -504    -955    -229    369\n",
            "\n",
            "-556    342    -463    830    58    -810    631    197    944    530\n",
            "\n",
            "483    200    526    80    -77    -77    -529    -915    -723    69\n",
            "\n",
            "682    39    420    -708    762    -350    -531    -621    808    711\n",
            "\n",
            "251    618    -278    404    -846    540    50    49    795    961\n",
            "\n",
            "-133    138    542    -253    718    31    852    -78    -544    -300\n",
            "\n",
            "-444    900    -643    769    453    0    677    404    558    -715\n",
            "\n",
            "-153    -669    -248    558    76    295    76    828    -58    -268\n",
            "\n",
            "442    538    371    343    -408    -588    -935    -105    753    -193\n",
            "\n",
            "-479    559    471    463    904    15    -979    -271    191    789\n",
            "\n",
            "570    -667    -477    -775    -36    -996    -735    173    -302    -806\n",
            "\n",
            "-864    -70    -495    430    -842    465    -237    162    735    932\n",
            "\n",
            "-130    53    755    691    -825    -720    -165    -18    470    27\n",
            "\n",
            "-237    -646    -797    -28    298    213    898    664    851    -223\n",
            "\n",
            "-286    472    -607    473    -277    888    782    -777    -692    -407\n",
            "\n",
            "-492    -341    -612    293    -734    -965    -119    -323    818    -823\n",
            "\n",
            "-271    631    603    551    -256    805    -950    -391    -63    -135\n",
            "\n",
            "-17    -116    -13    -128    645    818    -652    -850    -708    422\n",
            "\n",
            "382    346    337    -635    -89    -307    -980    221    -211    -963\n",
            "\n",
            "-220    -825    370    934    -533    -335    891    -256    757    -245\n",
            "\n",
            "941    -901    842    -274    596    912    -279    -412    474    318\n",
            "\n",
            "540    -347    -801    -807    -776    -877    815    -492    -121    673\n",
            "\n",
            "-764    160    48    -806    -188    -966    91    -928    227    -777\n",
            "\n",
            "-489    402    151    772    474    -208    -172    499    297    -576\n",
            "\n",
            "221    246    142    -577    777    146    -809    -730    -747    -436\n",
            "\n",
            "-562    993    -790    -426    -293    -665    -505    -839    245    -850\n",
            "\n",
            "-720    -555    -811    -90    832    512    866    -103    -290    -615\n",
            "\n",
            "-933    -215    267    92    -889    -244    564    77    292    -828\n",
            "\n",
            "307    -178    732    117    639    951    -888    -874    -925    -894\n",
            "\n",
            "-445    -592    228    702    -554    407    23    -449    -27    -71\n",
            "\n",
            "289    -185    365    -351    422    -519    -348    -304    -160    -105\n",
            "\n",
            "758    -835    -451    -3    -294    -728    563    -319    -566    190\n",
            "\n",
            "-757    586    914    165    446    442    671    19    342    139\n",
            "\n",
            "-716    -249    485    387    516    -518    -783    651    -360    333\n",
            "\n",
            "797    -640    -990    326    53    852    -973    992    124    178\n",
            "\n",
            "-199    -491    -74    403    -584    10    680    -851    -562    -278\n",
            "\n",
            "-864    82    -360    839    -18    -2    88    501    681    377\n",
            "\n",
            "-966    -683    110    367    -356    -394    -680    74    -133    -464\n",
            "\n",
            "542    -590    622    -266    -189    677    -745    487    663    -872\n",
            "\n",
            "-142    -754    104    995    -438    -124    609    938    -913    405\n",
            "\n",
            "308    827    -582    632    5    -221    -826    635    -744    493\n",
            "\n",
            "-820    305    -908    -906    -116    578    -533    244    47    5\n",
            "\n",
            "-974    -371    381    -374    742    290    371    -929    -865    907\n",
            "\n",
            "982    157    -787    654    -357    -349    -471    -446    159    -681\n",
            "\n",
            "60    910    -99    380    -564    -114    -809    362    -646    -192\n",
            "\n",
            "-626    -399    225    -245    51    542    574    588    -912    -774\n",
            "\n",
            "-327    357    587    -726    630    -833    -604    68    373    -427\n",
            "\n",
            "417    479    188    703    464    433    964    555    825    -990\n",
            "\n",
            "942    -639    627    -578    427    -67    305    -172    -590    933\n",
            "\n",
            "-24    616    -676    509    216    389    448    579    863    230\n",
            "\n",
            "-459    -20    -79    420    330    718    129    702    335    -229\n",
            "\n",
            "-217    -997    -964    -121    972    949    -795    585    -428    994\n",
            "\n",
            "59    -764    282    -784    -668    621    213    -446    -772    435\n",
            "\n",
            "999    990    260    745    -414    622    267    479    815    -469\n",
            "\n",
            "-955    -21    628    -316    -391    946    968    68    -803    903\n",
            "\n",
            "625    833    728    -875    597    -25    336    667    981    -659\n",
            "\n",
            "-1    -501    -294    -106    -371    180    718    88    -526    449\n",
            "\n",
            "664    268    59    437    -191    -144    -622    222    -782    957\n",
            "\n",
            "117    487    367    -499    505    496    182    -991    -577    -414\n",
            "\n",
            "830    77    -601    813    473    713    -322    -41    894    513\n",
            "\n",
            "-880    750    -365    193    -261    841    733    778    -527    -329\n",
            "\n",
            "-187    657    -138    130    263    194    -569    51    367    -26\n",
            "\n",
            "386    745    -403    84    -469    176    246    163    -300    -933\n",
            "\n",
            "667    -670    -778    654    694    309    293    396    -46    -101\n",
            "\n",
            "849    -90    314    397    -252    -79    761    884    -548    -562\n",
            "\n",
            "-927    823    -974    486    -672    761    762    925    -23    -112\n",
            "\n",
            "3    301    65    -921    -545    -864    -321    186    493    854\n",
            "\n",
            "-960    -222    329    856    -698    -922    755    -262    18    596\n",
            "\n",
            "785    832    -395    231    48    -401    -507    147    158    -622\n",
            "\n",
            "-757    704    609    497    -540    -917    -824    -273    -767    -763\n",
            "\n",
            "81    915    172    -645    -721    -972    -309    -581    407    37\n",
            "\n",
            "779    -988    782    -402    -359    810    848    -394    519    -122\n",
            "\n",
            "-858    -716    -101    -725    -548    897    123    397    474    78\n",
            "\n",
            "653    -483    -859    -221    -639    -255    834    -552    412    -104\n",
            "\n",
            "377    -206    554    866    -599    -447    745    863    -74    -243\n",
            "\n",
            "318    537    998    739    365    199    -732    -663    641    -299\n",
            "\n",
            "870    99    -309    75    -960    -474    -393    -312    -94    -157\n",
            "\n",
            "-283    493    45    233    -923    -153    303    -359    -608    934\n",
            "\n",
            "826    303    975    291    774    967    -923    753    -212    -638\n",
            "\n",
            "-282    -359    -869    -859    -312    -980    -704    507    -850    8\n",
            "\n",
            "838    170    -239    804    45    -468    -404    80    -425    -742\n",
            "\n",
            "-36    -119    421    -576    229    361    -982    -5    355    -667\n",
            "\n",
            "719    -697    727    -594    53    486    311    801    241    -857\n",
            "\n",
            "152    446    -303    -442    749    70    -369    683    793    126\n",
            "\n",
            "684    -113    802    -255    928    -275    -578    441    -841    -923\n",
            "\n",
            "585    190    212    480    -27    -356    31    301    580    -425\n",
            "\n",
            "853    862    510    -21    -575    366    -179    973    -605    900\n",
            "\n",
            "-852    227    644    200    907    268    564    929    -930    787\n",
            "\n",
            "-834    -700    456    -719    680    743    127    -720    -66    449\n",
            "\n",
            "206    346    370    -868    -387    242    -196    -499    483    627\n",
            "\n",
            "-222    739    45    628    1000    -251    369    -252    788    -362\n",
            "\n",
            "-290    50    577    646    76    687    826    880    -158    436\n",
            "\n",
            "-814    -111    812    869    -208    -927    604    -874    -926    -833\n",
            "\n",
            "-446    787    90    943    -513    -616    -607    968    -54    -672\n",
            "\n",
            "750    -712    -178    677    -600    -904    375    -224    687    -483\n",
            "\n",
            "396    719    457    828    -33    275    79    375    801    460\n",
            "\n",
            "818    874    -162    276    367    702    140    575    477    531\n",
            "\n",
            "304    -528    274    -677    -860    -838    626    -155    758    -317\n",
            "\n",
            "-30    -723    843    189    460    322    -746    -409    79    504\n",
            "\n"
          ]
        }
      ]
    }
  ]
}