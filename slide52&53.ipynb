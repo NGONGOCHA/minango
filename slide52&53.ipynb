{
  "nbformat": 4,
  "nbformat_minor": 0,
  "metadata": {
    "colab": {
      "name": "slide52&53.ipynb",
      "provenance": [],
      "authorship_tag": "ABX9TyM6U1pow40uugWlrHVzfvJ+",
      "include_colab_link": true
    },
    "kernelspec": {
      "name": "python3",
      "display_name": "Python 3"
    },
    "language_info": {
      "name": "python"
    }
  },
  "cells": [
    {
      "cell_type": "markdown",
      "metadata": {
        "id": "view-in-github",
        "colab_type": "text"
      },
      "source": [
        "<a href=\"https://colab.research.google.com/github/NGONGOCHA/minango/blob/main/slide52%2653.ipynb\" target=\"_parent\"><img src=\"https://colab.research.google.com/assets/colab-badge.svg\" alt=\"Open In Colab\"/></a>"
      ]
    },
    {
      "cell_type": "markdown",
      "metadata": {
        "id": "fb9g26V9YjiU"
      },
      "source": [
        "slide 52"
      ]
    },
    {
      "cell_type": "code",
      "metadata": {
        "colab": {
          "base_uri": "https://localhost:8080/"
        },
        "id": "mnwS-cGRYnaQ",
        "outputId": "d4ec8751-35c8-4959-9c66-3aaa57d8dbef"
      },
      "source": [
        "#khoản vay \n",
        "a = loan_Amount = 20000000 \n",
        "#lãi suất\n",
        "b = monthlyInterestRate = 0.1\n",
        "#số năm vay mượn\n",
        "c = numberOfYears = 2\n",
        "\n",
        "monthlyPayment = a*b / (1-(1/(1+b)**(c*12)))\n",
        "\n",
        "print(monthlyPayment)"
      ],
      "execution_count": 4,
      "outputs": [
        {
          "output_type": "stream",
          "name": "stdout",
          "text": [
            "2225995.527013756\n"
          ]
        }
      ]
    },
    {
      "cell_type": "markdown",
      "metadata": {
        "id": "0pDw2Aeqarq6"
      },
      "source": [
        "slide 53\n"
      ]
    },
    {
      "cell_type": "code",
      "metadata": {
        "colab": {
          "base_uri": "https://localhost:8080/"
        },
        "id": "SJzkYCFJauok",
        "outputId": "885ae1f2-e596-4112-d9c6-bb8e0526f835"
      },
      "source": [
        "import math\n",
        "\n",
        "#toạ độ điểm M(x1;y1)\n",
        "x1 = float(input(\"nhap x1: \"))\n",
        "y1 = float(input(\"nhập y1: \"))\n",
        "\n",
        "#toạ độ điểm N(x2;y2)\n",
        "x2 = float(input(\"nhap x2: \"))\n",
        "y2 = float(input(\"nhap y2: \"))\n",
        "\n",
        "#khoảng cách giữa hai điểm MN\n",
        "khoang_cach = math.sqrt((x2 - x1)**2 + (y2 - y1)**2)\n",
        "\n",
        "print(khoang_cach)"
      ],
      "execution_count": 17,
      "outputs": [
        {
          "output_type": "stream",
          "name": "stdout",
          "text": [
            "nhap x1: 2\n",
            "nhập y1: 3\n",
            "nhap x2: -1\n",
            "nhap y2: 2\n",
            "3.1622776601683795\n"
          ]
        }
      ]
    }
  ]
}