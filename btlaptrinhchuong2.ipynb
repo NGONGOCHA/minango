{
  "nbformat": 4,
  "nbformat_minor": 0,
  "metadata": {
    "colab": {
      "name": "btlaptrinhchuong2.ipynb",
      "provenance": [],
      "authorship_tag": "ABX9TyM2ilK1OPPhLqWmNaQmk+C8",
      "include_colab_link": true
    },
    "kernelspec": {
      "name": "python3",
      "display_name": "Python 3"
    },
    "language_info": {
      "name": "python"
    }
  },
  "cells": [
    {
      "cell_type": "markdown",
      "metadata": {
        "id": "view-in-github",
        "colab_type": "text"
      },
      "source": [
        "<a href=\"https://colab.research.google.com/github/NGONGOCHA/minango/blob/main/btlaptrinhchuong2.ipynb\" target=\"_parent\"><img src=\"https://colab.research.google.com/assets/colab-badge.svg\" alt=\"Open In Colab\"/></a>"
      ]
    },
    {
      "cell_type": "markdown",
      "metadata": {
        "id": "FrPnG9yU3P5O"
      },
      "source": [
        "BÀI TẬP LẬP TRÌNH CHƯƠNG 2\n",
        "\n",
        "Bài 1: Lập trình nhập vào từ bàn phím 2 số nguyên và tính:\n",
        "\n",
        "  1.Tổng của 2 số \n",
        "\n",
        "  2.Tích của 2 số\n",
        "\n",
        "  3.Hiệu của 2 số\n",
        "\n",
        "  4.Phép chia lấy phần dư của 2 số\n",
        "\n",
        "  5.Phép chia lấy phần nguyên của 2 số\n",
        "\n",
        "Kết quả xuất ra màn hình"
      ]
    },
    {
      "cell_type": "code",
      "metadata": {
        "colab": {
          "base_uri": "https://localhost:8080/"
        },
        "id": "jXUvwemN3f8m",
        "outputId": "1080704d-0bad-4054-9daa-69a71c57ed83"
      },
      "source": [
        "a = input(\"a = \")\n",
        "b = input(\"b = \")\n",
        "a = int(a)\n",
        "b = int(b)\n",
        "\n",
        "print(\"a + b =\", a+b)\n",
        "print(\"a * b =\", a*b)\n",
        "print(\"a - b =\", a-b)\n",
        "print(\"a % b =\", a%b)\n",
        "print(\"a // b =\", a//b)"
      ],
      "execution_count": null,
      "outputs": [
        {
          "output_type": "stream",
          "name": "stdout",
          "text": [
            "a = 5\n",
            "b = 2\n",
            "a + b = 7\n",
            "a * b = 10\n",
            "a - b = 3\n",
            "a % b = 1\n",
            "a // b = 2\n"
          ]
        }
      ]
    },
    {
      "cell_type": "markdown",
      "metadata": {
        "id": "PiXzFNmLApNA"
      },
      "source": [
        "Bài 2: Lập trình nhập vào từ bàn phím 2 số thực và tính:\n",
        "\n",
        "  1.Tổng của 2 số\n",
        "\n",
        "  2.Tích của 2 số\n",
        "\n",
        "  3.Hiệu của 2 số\n",
        "\n",
        "  4.Thương của 2 số\n",
        "\n",
        "Kết quả xuất ra màn hình"
      ]
    },
    {
      "cell_type": "code",
      "metadata": {
        "colab": {
          "base_uri": "https://localhost:8080/"
        },
        "id": "prV2IqCcA2oc",
        "outputId": "e3ab2ae5-faa3-4e16-bff1-b7d92380cf58"
      },
      "source": [
        "a = input(\"a =\")\n",
        "b = input(\"b =\")\n",
        "a = float(a)\n",
        "b = float(b)\n",
        "\n",
        "print(\"a + b =\", a+b)\n",
        "print(\"a * b =\", a*b)\n",
        "print(\"a - b =\", a-b)\n",
        "print(\"a / b =\", a/b)"
      ],
      "execution_count": null,
      "outputs": [
        {
          "output_type": "stream",
          "name": "stdout",
          "text": [
            "a =8.4\n",
            "b =2.5\n",
            "a + b = 10.9\n",
            "a * b = 21.0\n",
            "a - b = 5.9\n",
            "a / b = 3.3600000000000003\n"
          ]
        }
      ]
    },
    {
      "cell_type": "markdown",
      "metadata": {
        "id": "W5RqJ48xCSZJ"
      },
      "source": [
        "Bài 3: (Sử dụng các hàm toán học) Nhập một số từ bàn phím và tính:\n",
        "\n",
        "  1.Trị tuyệt đối\n",
        "\n",
        "  2.Lấy phần nguyên của số\n",
        "\n",
        "  3.Chuyển đổi thành số thực\n",
        "\n",
        "  4.(nhập thêm 1 số từ bàn phím) và tính lũy thừa  x^y \n",
        "\n",
        "  5.Tính căn bậc hai\n",
        "\n",
        "Kết quả xuất ra màn hình"
      ]
    },
    {
      "cell_type": "code",
      "metadata": {
        "colab": {
          "base_uri": "https://localhost:8080/"
        },
        "id": "m_TU-Yh6Chll",
        "outputId": "e430152a-6130-41fc-aad2-e410b07d5270"
      },
      "source": [
        "import math\n",
        "#trị tuyệt đối \n",
        "x = input(\"x = \")\n",
        "x = float(x)\n",
        "print(\"trị tuyệt đối của x là: \", abs(x))\n",
        "\n",
        "#lấy phần nguyên của số\n",
        "\n",
        "print(\"phần nguyên của số là:\", int(x))\n",
        "\n",
        "#chuyển đổi thành số thực\n",
        "x = float(x)\n",
        "print(x)\n",
        "\n",
        "#nhập thêm số y \n",
        "y = input(\"y = \")\n",
        "y = int(y)\n",
        "print(\"luỹ thừa của x và y là:\", x**y)\n",
        "\n",
        "#căn bậc hai\n",
        "print(\"căn bậc hai của x là:\", math.sqrt(x))"
      ],
      "execution_count": 9,
      "outputs": [
        {
          "output_type": "stream",
          "name": "stdout",
          "text": [
            "x = 8.9\n",
            "trị tuyệt đối của x là:  8.9\n",
            "phần nguyên của số là: 8\n",
            "8.9\n",
            "y = 2\n",
            "luỹ thừa của x và y là: 79.21000000000001\n",
            "căn bậc hai của x là: 2.9832867780352594\n"
          ]
        }
      ]
    },
    {
      "cell_type": "markdown",
      "metadata": {
        "id": "uFz7JIH7q8M2"
      },
      "source": [
        "Bài 4: Nhập 2 số từ bàn phím và thực hiện các phép so sánh sau giữa 2 số:\n",
        "\n",
        "  1.≥ \n",
        "\n",
        "  2.≤ \n",
        "\n",
        "  3.> \n",
        "\n",
        "  4.< \n",
        "\n",
        "  5.≠ \n",
        "  \n",
        "Kết quả xuất ra màn hình"
      ]
    },
    {
      "cell_type": "code",
      "metadata": {
        "colab": {
          "base_uri": "https://localhost:8080/"
        },
        "id": "BLiMw9scrVho",
        "outputId": "dbfafd74-d8ec-4cfd-ae1e-5cbcbf17968f"
      },
      "source": [
        "m = input(\"m = \")\n",
        "n = input(\"n = \")\n",
        "m = float(m)\n",
        "n = float(n)\n",
        "\n",
        "print(\"m>=n\", m>=n)\n",
        "print(\"m<=n\", m<=n)\n",
        "print(\"m>n\", m>n)\n",
        "print(\"m<n\", m<n)\n",
        "print(\"m!=n\", m!=n)"
      ],
      "execution_count": 5,
      "outputs": [
        {
          "output_type": "stream",
          "name": "stdout",
          "text": [
            "m = 7\n",
            "n = 8\n",
            "m>=n False\n",
            "m<=n True\n",
            "m>n False\n",
            "m<n True\n",
            "m!=n True\n"
          ]
        }
      ]
    },
    {
      "cell_type": "markdown",
      "metadata": {
        "id": "Fovat3w2v1I0"
      },
      "source": [
        "Bài 5: Nhập 1 chuỗi ký tự từ bàn phím:\n",
        "\n",
        "  1.Chuyển thành chuỗi in hoa \n",
        "\n",
        "  2.Chuyển thành chuỗi in thường\n",
        "\n",
        "Kết quả xuất ra màn hình"
      ]
    },
    {
      "cell_type": "code",
      "metadata": {
        "colab": {
          "base_uri": "https://localhost:8080/"
        },
        "id": "EqDEcRfFxSYO",
        "outputId": "a25d80ef-e6d4-476d-f642-9ce18b7580d1"
      },
      "source": [
        "g = str(g)\n",
        "g = input(\"nhập chuỗi:\")\n",
        "print(str.upper(g))\n",
        "print(str.lower(g))"
      ],
      "execution_count": 25,
      "outputs": [
        {
          "output_type": "stream",
          "name": "stdout",
          "text": [
            "nhập chuỗi:hello\n",
            "HELLO\n",
            "hello\n"
          ]
        }
      ]
    },
    {
      "cell_type": "markdown",
      "metadata": {
        "id": "XbwrbrJJR9wA"
      },
      "source": [
        "Bài 6: Xuất ra màn hình 1 chuỗi ký từ nằm trên nhiều hàng (có thể là 1 bài thơ tùy ý bạn lựa chọn)"
      ]
    },
    {
      "cell_type": "code",
      "metadata": {
        "colab": {
          "base_uri": "https://localhost:8080/"
        },
        "id": "SJdIM9dTSBfz",
        "outputId": "686fbd97-e5f6-41c7-999b-d5ef8b95b095"
      },
      "source": [
        "print(\"Từ ấy trong tôi bừng nắng hạ \\nMặt trời chân lý chói qua tim\")\n",
        "print(\"Hồn tôi là một vườn hoa lá \\nRất đậm hương và rộn tiếng chim\")"
      ],
      "execution_count": 28,
      "outputs": [
        {
          "output_type": "stream",
          "name": "stdout",
          "text": [
            "Từ ấy trong tôi bừng nắng hạ \n",
            "Mặt trời chân lý chói qua tim\n",
            "Hồn tôi là một vườn hoa lá \n",
            "Rất đậm hương và rộn tiếng chim\n"
          ]
        }
      ]
    }
  ]
}